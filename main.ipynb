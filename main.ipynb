{
 "cells": [
  {
   "cell_type": "code",
   "execution_count": 1,
   "metadata": {},
   "outputs": [],
   "source": [
    "# Author: Adib Fahimi\n",
    "# Date: 2023-02-22\n",
    "\n",
    "import numpy as np\n",
    "import matplotlib.pyplot as plt\n",
    "import pandas as pd\n",
    "from sklearn.preprocessing import OneHotEncoder\n",
    "import time\n",
    "from PIL import Image\n",
    "import os"
   ]
  },
  {
   "cell_type": "code",
   "execution_count": 2,
   "metadata": {},
   "outputs": [
    {
     "name": "stdout",
     "output_type": "stream",
     "text": [
      "X_train shape:  (60000, 784)\n",
      "y_train shape:  (60000, 10)\n",
      "X_test shape:  (10000, 784)\n",
      "y_test shape:  (10000, 10)\n"
     ]
    }
   ],
   "source": [
    "# Importing the dataset\n",
    "dataset = pd.read_csv('./data/mnist_train.csv')\n",
    "X_train = dataset.iloc[:, 1:].values\n",
    "y_train = dataset.iloc[:, 0].values\n",
    "\n",
    "test = pd.read_csv('./data/mnist_test.csv')\n",
    "X_test = test.iloc[:, 1:].values\n",
    "y_test = test.iloc[:, 0].values\n",
    "\n",
    "# Normalize the input data\n",
    "X_train = X_train / 255.0\n",
    "X_test = X_test / 255.0\n",
    "\n",
    "# one hot\n",
    "enc = OneHotEncoder(handle_unknown='ignore')\n",
    "y_train = enc.fit_transform(y_train.reshape(-1, 1)).toarray()\n",
    "y_test = enc.fit_transform(y_test.reshape(-1, 1)).toarray()\n",
    "\n",
    "\n",
    "print(\"X_train shape: \", X_train.shape)\n",
    "print(\"y_train shape: \", y_train.shape)\n",
    "print(\"X_test shape: \", X_test.shape)\n",
    "print(\"y_test shape: \", y_test.shape)"
   ]
  },
  {
   "cell_type": "code",
   "execution_count": 3,
   "metadata": {},
   "outputs": [],
   "source": [
    "def relu(x):\n",
    "    return np.maximum(0, x)\n",
    "\n",
    "def softmax(x):\n",
    "    exp_x = np.exp(x - np.max(x, axis=1, keepdims=True))\n",
    "    return exp_x / np.sum(exp_x, axis=1, keepdims=True)\n",
    "\n",
    "\n",
    "class Model:\n",
    "    def __init__(self, input_size, hidden_size1, hidden_size2, output_size, learning_rate=0.1):\n",
    "        self.input_size = input_size\n",
    "        self.hidden_size1 = hidden_size1\n",
    "        self.hidden_size2 = hidden_size2\n",
    "        self.output_size = output_size\n",
    "        self.learning_rate = learning_rate\n",
    "        self.W1 = np.random.randn(\n",
    "            input_size, hidden_size1) / np.sqrt(input_size)\n",
    "        self.b1 = np.zeros((1, hidden_size1))\n",
    "        self.W2 = np.random.randn(\n",
    "            hidden_size1, hidden_size2) / np.sqrt(hidden_size1)\n",
    "        self.b2 = np.zeros((1, hidden_size2))\n",
    "        self.W3 = np.random.randn(\n",
    "            hidden_size2, output_size) / np.sqrt(hidden_size2)\n",
    "        self.b3 = np.zeros((1, output_size))\n",
    "        self.enc = OneHotEncoder(handle_unknown='ignore')\n",
    "\n",
    "\n",
    "    def forward(self, X):\n",
    "        self.Z1 = np.dot(X, self.W1) + self.b1\n",
    "        self.A1 = relu(self.Z1)\n",
    "        self.Z2 = np.dot(self.A1, self.W2) + self.b2\n",
    "        self.A2 = relu(self.Z2)\n",
    "        self.Z3 = np.dot(self.A2, self.W3) + self.b3\n",
    "        self.A3 = softmax(self.Z3)\n",
    "        return self.A3\n",
    "\n",
    "    def backward(self, X, y, y_hat):\n",
    "        m = X.shape[0]\n",
    "        dZ3 = y_hat - y\n",
    "        dW3 = (1/m) * np.dot(self.A2.T, dZ3)\n",
    "        db3 = (1/m) * np.sum(dZ3, axis=0, keepdims=True)\n",
    "        dZ2 = np.dot(dZ3, self.W3.T) * (self.A2 > 0)\n",
    "        dW2 = (1/m) * np.dot(self.A1.T, dZ2)\n",
    "        db2 = (1/m) * np.sum(dZ2, axis=0, keepdims=True)\n",
    "        dZ1 = np.dot(dZ2, self.W2.T) * (self.A1 > 0)\n",
    "        dW1 = (1/m) * np.dot(X.T, dZ1)\n",
    "        db1 = (1/m) * np.sum(dZ1, axis=0, keepdims=True)\n",
    "        return dW1, db1, dW2, db2, dW3, db3\n",
    "\n",
    "    def update(self, dW1, db1, dW2, db2, dW3, db3):\n",
    "        self.W1 -= self.learning_rate * dW1\n",
    "        self.b1 -= self.learning_rate * db1\n",
    "        self.W2 -= self.learning_rate * dW2\n",
    "        self.b2 -= self.learning_rate * db2\n",
    "        self.W3 -= self.learning_rate * dW3\n",
    "        self.b3 -= self.learning_rate * db3\n",
    "\n",
    "    def loss(self, y, y_hat):\n",
    "        return -np.sum(y * np.log(y_hat + 1e-9)) / y.shape[0]\n",
    "\n",
    "    def accuracy(self, y, y_hat):\n",
    "        return np.mean(np.argmax(y, axis=1) == np.argmax(y_hat, axis=1))\n",
    "    \n",
    "    def train(self, X, y, epochs=10, batch_size=32):\n",
    "        m = X.shape[0]\n",
    "        for epoch in range(epochs):\n",
    "            start = time.time()\n",
    "            for i in range(0, m, batch_size):\n",
    "                X_batch = X[i:i+batch_size]\n",
    "                y_batch = y[i:i+batch_size]\n",
    "                y_hat = self.forward(X_batch)\n",
    "                dW1, db1, dW2, db2, dW3, db3 = self.backward(\n",
    "                    X_batch, y_batch, y_hat)\n",
    "                self.update(dW1, db1, dW2, db2, dW3, db3)\n",
    "            y_hat = self.forward(X)\n",
    "            loss = self.loss(y, y_hat)\n",
    "            acc = self.accuracy(y, y_hat)\n",
    "            print(\"Epoch: {}, loss: {:.4f}, acc: {:.4f}, time: {:.4f}\".format(\n",
    "                epoch+1, loss, acc, time.time()-start))\n",
    "        \n",
    "    def predict(self, X):\n",
    "        return np.argmax(self.forward(X), axis=1)\n",
    "\n",
    "    def save(self):\n",
    "        np.save('./model/W1.npy', self.W1)\n",
    "        np.save('./model/b1.npy', self.b1)\n",
    "        np.save('./model/W2.npy', self.W2)\n",
    "        np.save('./model/b2.npy', self.b2)\n",
    "        np.save('./model/W3.npy', self.W3)\n",
    "        np.save('./model/b3.npy', self.b3)\n",
    "\n",
    "    def load(self):\n",
    "        self.W1 = np.load('./model/W1.npy')\n",
    "        self.b1 = np.load('./model/b1.npy')\n",
    "        self.W2 = np.load('./model/W2.npy')\n",
    "        self.b2 = np.load('./model/b2.npy')\n",
    "        self.W3 = np.load('./model/W3.npy')\n",
    "        self.b3 = np.load('./model/b3.npy')\n"
   ]
  },
  {
   "cell_type": "code",
   "execution_count": 4,
   "metadata": {},
   "outputs": [],
   "source": [
    "input_size = 784\n",
    "hidden_size1 = 256\n",
    "hidden_size2 = 128\n",
    "output_size = 10\n",
    "\n",
    "model = Model(input_size, hidden_size1, hidden_size2,\n",
    "              output_size, learning_rate=0.1)\n",
    "\n",
    "# model.train(X_train, y_train, epochs=10, batch_size=32)\n",
    "# model.save()\n",
    "model.load()"
   ]
  },
  {
   "cell_type": "code",
   "execution_count": 5,
   "metadata": {},
   "outputs": [
    {
     "data": {
      "image/png": "[encoded data removed]",
      "text/plain": [
       "<Figure size 640x480 with 1 Axes>"
      ]
     },
     "metadata": {},
     "output_type": "display_data"
    },
    {
     "name": "stdout",
     "output_type": "stream",
     "text": [
      "2\n"
     ]
    },
    {
     "data": {
      "image/png": "[encoded data removed]",
      "text/plain": [
       "<Figure size 640x480 with 1 Axes>"
      ]
     },
     "metadata": {},
     "output_type": "display_data"
    },
    {
     "name": "stdout",
     "output_type": "stream",
     "text": [
      "1\n"
     ]
    },
    {
     "data": {
      "image/png": "[encoded data removed]",
      "text/plain": [
       "<Figure size 640x480 with 1 Axes>"
      ]
     },
     "metadata": {},
     "output_type": "display_data"
    },
    {
     "name": "stdout",
     "output_type": "stream",
     "text": [
      "9\n"
     ]
    }
   ],
   "source": [
    "# test on images\n",
    "files = os.listdir('images')\n",
    "\n",
    "for _ in files:\n",
    "    img = Image.open('./images/' + _).convert('L')\n",
    "    img = img.resize((28, 28))\n",
    "    img = np.array(img)\n",
    "    plt.imshow(img, cmap='gray')\n",
    "    plt.show()\n",
    "    img = img.reshape(1, -1)\n",
    "    img = img / 255.0\n",
    "\n",
    "    print(model.predict(img)[0])"
   ]
  }
 ],
 "metadata": {
  "kernelspec": {
   "display_name": "base",
   "language": "python",
   "name": "python3"
  },
  "language_info": {
   "codemirror_mode": {
    "name": "ipython",
    "version": 3
   },
   "file_extension": ".py",
   "mimetype": "text/x-python",
   "name": "python",
   "nbconvert_exporter": "python",
   "pygments_lexer": "ipython3",
   "version": "3.10.8"
  },
  "orig_nbformat": 4,
  "vscode": {
   "interpreter": {
    "hash": "e7cb1b9ae4d417fedf7f40a8eec98f7cfbd359e096bd857395a915f4609834ce"
   }
  }
 },
 "nbformat": 4,
 "nbformat_minor": 2
}
